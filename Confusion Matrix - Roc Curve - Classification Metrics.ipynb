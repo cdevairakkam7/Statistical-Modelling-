{
 "cells": [
  {
   "cell_type": "markdown",
   "metadata": {},
   "source": [
    "# Confusion Matrix - Roc Curve - Classification Metrics"
   ]
  },
  {
   "cell_type": "code",
   "execution_count": 8,
   "metadata": {},
   "outputs": [],
   "source": [
    "import numpy as np\n",
    "import pandas as pd\n",
    "from sklearn.tree import DecisionTreeClassifier\n",
    "from sklearn.preprocessing import LabelEncoder\n",
    "from sklearn.model_selection import train_test_split"
   ]
  },
  {
   "cell_type": "code",
   "execution_count": 10,
   "metadata": {},
   "outputs": [
    {
     "name": "stdout",
     "output_type": "stream",
     "text": [
      "    outlook  temprature  humdity  windy  play\n",
      "0         1           1        0      0     0\n",
      "1         1           1        0      1     0\n",
      "2         0           1        0      0     1\n",
      "3         2           2        0      0     1\n",
      "4         2           0        1      0     1\n",
      "5         2           0        1      1     0\n",
      "6         0           0        1      1     1\n",
      "7         1           2        0      0     0\n",
      "8         1           0        1      0     1\n",
      "9         2           2        1      0     1\n",
      "10        1           2        1      1     1\n",
      "11        0           2        0      1     1\n",
      "12        0           1        1      0     1\n",
      "13        2           2        0      1     0\n",
      "     outlook temprature humdity  windy play\n",
      "0      Rainy        Hot    High  False   No\n",
      "1      Rainy        Hot    High   True   No\n",
      "2   Overcast        Hot    High  False  Yes\n",
      "3      Sunny       Mild    High  False  Yes\n",
      "4      Sunny       Cool  Normal  False  Yes\n",
      "5      Sunny       Cool  Normal   True   No\n",
      "6   Overcast       Cool  Normal   True  Yes\n",
      "7      Rainy       Mild    High  False   No\n",
      "8      Rainy       Cool  Normal  False  Yes\n",
      "9      Sunny       Mild  Normal  False  Yes\n",
      "10     Rainy       Mild  Normal   True  Yes\n",
      "11  Overcast       Mild    High   True  Yes\n",
      "12  Overcast        Hot  Normal  False  Yes\n",
      "13     Sunny       Mild    High   True   No\n"
     ]
    }
   ],
   "source": [
    "dataset= pd.read_csv('/Users/christopherdevairakkam/Desktop/rain.csv')\n",
    "dataset=pd.DataFrame(data=dataset.iloc[:,1:6].values,columns=[\"outlook\",\"temprature\",\"humdity\",\"windy\",\"play\"])\n",
    "filter = dataset[\"outlook\"]==\"Rainy\"\n",
    "dataset.where(filter).count()\n",
    "dataset_encoded=dataset.iloc[:,0:5]\n",
    "le=LabelEncoder()\n",
    "for i in dataset_encoded:\n",
    "    dataset_encoded[i]=le.fit_transform(dataset_encoded[i])\n",
    "\n",
    "print(dataset_encoded)\n",
    "print(dataset)"
   ]
  },
  {
   "cell_type": "code",
   "execution_count": 23,
   "metadata": {},
   "outputs": [
    {
     "name": "stdout",
     "output_type": "stream",
     "text": [
      "[0 1 1 1 1] [1 1 0 0 1]\n"
     ]
    }
   ],
   "source": [
    "#Feature Set\n",
    "X=dataset_encoded.iloc[:,0:4].values\n",
    "#Label Set\n",
    "y=dataset_encoded.iloc[:,4].values\n",
    "\n",
    "X_train,X_test,y_train,y_test=train_test_split(X,y,test_size=0.3,random_state=2)\n",
    "\n",
    "model=DecisionTreeClassifier(criterion='gini')\n",
    "model.fit(X_train,y_train)\n",
    "\n",
    "predicted=model.predict(X_test)\n",
    "print(predicted,y_test)\n"
   ]
  },
  {
   "cell_type": "markdown",
   "metadata": {},
   "source": [
    "## Confusion Matrix"
   ]
  },
  {
   "cell_type": "code",
   "execution_count": 24,
   "metadata": {},
   "outputs": [
    {
     "data": {
      "text/plain": [
       "array([[0, 2],\n",
       "       [1, 2]])"
      ]
     },
     "execution_count": 24,
     "metadata": {},
     "output_type": "execute_result"
    }
   ],
   "source": [
    "# Confusion Matrix\n",
    "from sklearn.metrics import confusion_matrix\n",
    "confusion_matrix(y_test,predicted)"
   ]
  },
  {
   "cell_type": "markdown",
   "metadata": {},
   "source": [
    "## Accuracy Score"
   ]
  },
  {
   "cell_type": "code",
   "execution_count": 25,
   "metadata": {},
   "outputs": [
    {
     "data": {
      "text/plain": [
       "0.4"
      ]
     },
     "execution_count": 25,
     "metadata": {},
     "output_type": "execute_result"
    }
   ],
   "source": [
    "# Accuracy_score\n",
    "from sklearn.metrics import accuracy_score\n",
    "accuracy_score(y_test,predicted)"
   ]
  },
  {
   "cell_type": "markdown",
   "metadata": {},
   "source": [
    "## F1 Score"
   ]
  },
  {
   "cell_type": "code",
   "execution_count": 44,
   "metadata": {},
   "outputs": [
    {
     "data": {
      "text/plain": [
       "(0.4000000000000001, 0.28571428571428575, 0.34285714285714286)"
      ]
     },
     "execution_count": 44,
     "metadata": {},
     "output_type": "execute_result"
    }
   ],
   "source": [
    "from sklearn.metrics import f1_score\n",
    "\n",
    "f1_score(y_test,predicted,average='micro'),f1_score(y_test,predicted,average='macro'),f1_score(y_test,predicted,average='weighted')"
   ]
  },
  {
   "cell_type": "markdown",
   "metadata": {},
   "source": [
    "## Plotting ROC Curve"
   ]
  },
  {
   "cell_type": "code",
   "execution_count": 38,
   "metadata": {},
   "outputs": [
    {
     "name": "stdout",
     "output_type": "stream",
     "text": [
      "0.6666666666666666\n"
     ]
    }
   ],
   "source": [
    "# Plotting Roc Curve\n",
    "from sklearn.metrics import roc_auc_score,roc_curve\n",
    "probs=model.predict_proba(X_test)\n",
    "probs=probs[:,0]\n",
    "auc=roc_auc_score(y_test,probs)\n",
    "print(auc)"
   ]
  },
  {
   "cell_type": "code",
   "execution_count": 39,
   "metadata": {},
   "outputs": [
    {
     "data": {
      "text/plain": [
       "[<matplotlib.lines.Line2D at 0x7fb556185390>]"
      ]
     },
     "execution_count": 39,
     "metadata": {},
     "output_type": "execute_result"
    },
    {
     "data": {
      "image/png": "[encoded data removed]",
      "text/plain": [
       "<Figure size 432x288 with 1 Axes>"
      ]
     },
     "metadata": {
      "needs_background": "light"
     },
     "output_type": "display_data"
    }
   ],
   "source": [
    "fpr,tpr,thres=roc_curve(y_test,probs)\n",
    "import matplotlib.pyplot as plt\n",
    "plt.plot([0,1],[0,1],linestyle='--')\n",
    "plt.plot(fpr,tpr,marker=\".\",color='red')"
   ]
  },
  {
   "cell_type": "markdown",
   "metadata": {},
   "source": [
    "## Precision Score"
   ]
  },
  {
   "cell_type": "code",
   "execution_count": 45,
   "metadata": {},
   "outputs": [
    {
     "data": {
      "text/plain": [
       "0.5"
      ]
     },
     "execution_count": 45,
     "metadata": {},
     "output_type": "execute_result"
    }
   ],
   "source": [
    "from sklearn.metrics import precision_score\n",
    "precision_score(y_test,predicted)"
   ]
  },
  {
   "cell_type": "markdown",
   "metadata": {},
   "source": [
    "## Recall Score"
   ]
  },
  {
   "cell_type": "code",
   "execution_count": 46,
   "metadata": {},
   "outputs": [
    {
     "data": {
      "text/plain": [
       "0.6666666666666666"
      ]
     },
     "execution_count": 46,
     "metadata": {},
     "output_type": "execute_result"
    }
   ],
   "source": [
    "from sklearn.metrics import recall_score\n",
    "recall_score(y_test,predicted)"
   ]
  },
  {
   "cell_type": "code",
   "execution_count": null,
   "metadata": {},
   "outputs": [],
   "source": []
  }
 ],
 "metadata": {
  "kernelspec": {
   "display_name": "Python 3",
   "language": "python",
   "name": "python3"
  },
  "language_info": {
   "codemirror_mode": {
    "name": "ipython",
    "version": 3
   },
   "file_extension": ".py",
   "mimetype": "text/x-python",
   "name": "python",
   "nbconvert_exporter": "python",
   "pygments_lexer": "ipython3",
   "version": "3.7.6"
  }
 },
 "nbformat": 4,
 "nbformat_minor": 4
}
