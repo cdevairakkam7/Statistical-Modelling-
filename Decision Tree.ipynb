{
 "cells": [
  {
   "cell_type": "markdown",
   "metadata": {},
   "source": [
    "# Decision Tree\n",
    "## Prevents Underfitting and Overfitting using Mean Absolute error "
   ]
  },
  {
   "cell_type": "code",
   "execution_count": 11,
   "metadata": {},
   "outputs": [],
   "source": [
    "import pandas as pd\n",
    "# The Regressor\n",
    "from sklearn.tree import DecisionTreeRegressor , DecisionTreeClassifier\n",
    "# Splitting train and test\n",
    "from sklearn.model_selection import train_test_split\n",
    "# Calculate Mean Absolute Error\n",
    "from sklearn.metrics import mean_absolute_error"
   ]
  },
  {
   "cell_type": "code",
   "execution_count": 2,
   "metadata": {},
   "outputs": [],
   "source": [
    "#Reading Data\n",
    "X =pd.read_csv('/Users/christopherdevairakkam/Desktop/X.csv')\n",
    "X.fillna( value=0,inplace=True)\n",
    "\n",
    "#Extracting target variable\n",
    "y=X.SalePrice\n",
    "\n",
    "# Selecting features\n",
    "features = ['LotArea', 'YearBuilt', '1stFlrSF', '2ndFlrSF', 'FullBath', 'BedroomAbvGr', 'TotRmsAbvGrd']\n",
    "X=X[features]"
   ]
  },
  {
   "cell_type": "code",
   "execution_count": 3,
   "metadata": {},
   "outputs": [
    {
     "name": "stdout",
     "output_type": "stream",
     "text": [
      "Validation MAE: 98,611.975799\n"
     ]
    }
   ],
   "source": [
    "# Splitting data into train and test\n",
    "train_X,val_X,train_y,val_y=train_test_split(X,y,test_size=0.25 , random_state=1)\n",
    "\n",
    "# Specify Model \n",
    "iowa_model = DecisionTreeRegressor(random_state=1)\n",
    "\n",
    "# Fit model \n",
    "iowa_model.fit(train_X,train_y)\n",
    "\n",
    "# Predict and calculate mean absolute error\n",
    "val_predictions = iowa_model.predict(val_X)\n",
    "val_mae = mean_absolute_error(val_predictions, val_y)\n",
    "print(\"Validation MAE: {:,.6f}\".format(val_mae))"
   ]
  },
  {
   "cell_type": "code",
   "execution_count": 4,
   "metadata": {},
   "outputs": [],
   "source": [
    "# Function that return Mean absolute error \n",
    "\n",
    "def get_mae(max_leaf_nodes, train_X, val_X, train_y, val_y):\n",
    "    model = DecisionTreeRegressor(max_leaf_nodes=max_leaf_nodes, random_state=0)\n",
    "    model.fit(train_X, train_y)\n",
    "    preds_val = model.predict(val_X)\n",
    "    mae = mean_absolute_error(val_y, preds_val)\n",
    "    return(mae)"
   ]
  },
  {
   "cell_type": "code",
   "execution_count": 36,
   "metadata": {},
   "outputs": [
    {
     "name": "stdout",
     "output_type": "stream",
     "text": [
      "Mean Absolute Error of all models \n",
      "\n",
      "{   91535.27812278003: 250,\n",
      "    91650.4930437573: 5,\n",
      "    91840.20043742961: 25,\n",
      "    92170.39661944725: 100,\n",
      "    92968.94722738351: 50,\n",
      "    95680.13143780046: 500}\n",
      "\n",
      " Best Tree Size based on MAE 250\n"
     ]
    }
   ],
   "source": [
    "\n",
    "# compare different tree sizes \n",
    "candidate_max_leaf_nodes = [5, 25, 50, 100, 250, 500]\n",
    "out_list={}\n",
    "\n",
    "# Write loop to find the ideal tree size from candidate_max_leaf_nodes\n",
    "for max_leaf_nodes in candidate_max_leaf_nodes:\n",
    "    out_list[get_mae(max_leaf_nodes, train_X, val_X, train_y, val_y)]=max_leaf_nodes\n",
    "\n",
    "best_tree_size=out_list.get(min(out_list))\n",
    "print('Mean Absolute Error of all models \\n')\n",
    "import pprint\n",
    "pp=pprint.PrettyPrinter(indent=4)\n",
    "pp.pprint(out_list)\n",
    "print('\\n Best Tree Size based on MAE',best_tree_size)"
   ]
  }
 ],
 "metadata": {
  "kernelspec": {
   "display_name": "Python 3",
   "language": "python",
   "name": "python3"
  },
  "language_info": {
   "codemirror_mode": {
    "name": "ipython",
    "version": 3
   },
   "file_extension": ".py",
   "mimetype": "text/x-python",
   "name": "python",
   "nbconvert_exporter": "python",
   "pygments_lexer": "ipython3",
   "version": "3.7.6"
  }
 },
 "nbformat": 4,
 "nbformat_minor": 4
}
